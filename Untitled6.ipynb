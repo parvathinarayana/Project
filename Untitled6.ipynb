{
 "cells": [
  {
   "cell_type": "code",
   "execution_count": 1,
   "metadata": {},
   "outputs": [
    {
     "name": "stdout",
     "output_type": "stream",
     "text": [
      "1000.0\n",
      "700.0\n"
     ]
    }
   ],
   "source": [
    "class BankAccount:\n",
    "    def __init__(self, name, balance=0.00):\n",
    "        self.name = name\n",
    "        self.balance = balance\n",
    "\n",
    "    def deposit(self, amount):\n",
    "        \"\"\"make a deposit\"\"\"\n",
    "        self.balance += amount\n",
    "\n",
    "    def withdraw(self, amount):\n",
    "        \"\"\"make a withdraw\"\"\"\n",
    "        if amount > self.balance:\n",
    "            raise ValueError(\"insufficient funds\")\n",
    "        self.balance -= amount\n",
    "\n",
    "    def get_balance(self): #are accessor methods needed in Python?\n",
    "        \"\"\"check the balance\"\"\"\n",
    "        return self.balance\n",
    "\n",
    "\n",
    "def main():\n",
    "    customer= BankAccount('Alex')\n",
    "    customer.deposit(1000)\n",
    "    print(customer.get_balance())\n",
    "    customer.withdraw(300)\n",
    "    print(customer.get_balance())\n",
    "if __name__ == \"__main__\":\n",
    "    main()"
   ]
  },
  {
   "cell_type": "markdown",
   "metadata": {},
   "source": [
    "#or"
   ]
  },
  {
   "cell_type": "code",
   "execution_count": null,
   "metadata": {},
   "outputs": [
    {
     "name": "stdout",
     "output_type": "stream",
     "text": [
      "Welcome to piggy bank\n",
      "enter value start or endstart\n",
      "Please select an Action Add,Withdraw or check :add\n",
      "How many rupees would you like to deposit?: 1000\n",
      "1000 rs got deposited into your bank acc\n",
      "Please select an Action Add,Withdraw or check :check\n",
      "1000\n"
     ]
    }
   ],
   "source": [
    "print('Welcome to piggy bank')\n",
    "Balance=0 \n",
    "\n",
    "Value=input(\"enter value start or end\").upper()\n",
    "while Value=='Start'.upper():\n",
    "    Action= input(\"Please select an Action Add,Withdraw or check :\").upper()\n",
    "\n",
    "    if Action == 'ADD':\n",
    "        N = input(\"How many rupees would you like to deposit?: \")\n",
    "        Balance=Balance+int(N)\n",
    "        print('{} rs got deposited into your bank acc'.format(Balance))\n",
    "    elif Action == 'WITHDRAW':\n",
    "        P = input(\"How many rupees would you like to withdraw?: \").upper\n",
    "        if P > Balance:\n",
    "            print(\"Sorry you don't have enough balance\")\n",
    "        else:\n",
    "            Balance=Balance-int(P)\n",
    "            print(Balance)\n",
    "    else:\n",
    "        if Action == 'CHECK':\n",
    "            print(Balance)\n"
   ]
  },
  {
   "cell_type": "code",
   "execution_count": null,
   "metadata": {},
   "outputs": [],
   "source": [
    "\n"
   ]
  },
  {
   "cell_type": "code",
   "execution_count": null,
   "metadata": {},
   "outputs": [],
   "source": []
  }
 ],
 "metadata": {
  "kernelspec": {
   "display_name": "Python 3",
   "language": "python",
   "name": "python3"
  },
  "language_info": {
   "codemirror_mode": {
    "name": "ipython",
    "version": 3
   },
   "file_extension": ".py",
   "mimetype": "text/x-python",
   "name": "python",
   "nbconvert_exporter": "python",
   "pygments_lexer": "ipython3",
   "version": "3.7.0"
  }
 },
 "nbformat": 4,
 "nbformat_minor": 2
}
